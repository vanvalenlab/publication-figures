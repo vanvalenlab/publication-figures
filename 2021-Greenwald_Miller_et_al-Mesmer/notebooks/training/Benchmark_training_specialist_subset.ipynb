{
 "cells": [
  {
   "cell_type": "code",
   "execution_count": 1,
   "metadata": {},
   "outputs": [],
   "source": [
    "# This notebook trains models on specific tissues and platforms from the TissueNet dataset\n",
    "import os\n",
    "import errno\n",
    "import numpy as np \n",
    "import deepcell\n",
    "from deepcell_toolbox.multiplex_utils import multiplex_preprocess"
   ]
  },
  {
   "cell_type": "code",
   "execution_count": 2,
   "metadata": {},
   "outputs": [],
   "source": [
    "# create folder for this set of experiments\n",
    "experiment_folder = \"specialist_benchmarking/\"\n",
    "MODEL_DIR = os.path.join(\"/data/analyses\", experiment_folder)\n",
    "NPZ_DIR = '/data/npz_data/20201018_freeze/'\n",
    "LOG_DIR = '/data/logs'\n",
    "\n",
    "if not os.path.isdir(MODEL_DIR):\n",
    "    os.makedirs(MODEL_DIR)"
   ]
  },
  {
   "cell_type": "code",
   "execution_count": 3,
   "metadata": {},
   "outputs": [],
   "source": [
    "from deepcell.utils.data_utils import get_data\n",
    "from skimage.segmentation import relabel_sequential\n",
    "\n",
    "npz_name = \"20201018_multiplex_seed_3\"\n",
    "\n",
    "train_dict = np.load(NPZ_DIR + npz_name + \"_train_512x512.npz\")\n",
    "val_dict = np.load(NPZ_DIR + npz_name + \"_val_256x256.npz\")\n",
    "\n",
    "X_train, y_train = train_dict['X'], train_dict['y']\n",
    "train_tissue, train_platform = train_dict['tissue_list'], train_dict['platform_list']\n",
    "X_val, y_val = val_dict['X'], val_dict['y']\n",
    "val_tissue, val_platform = val_dict['tissue_list'], val_dict['platform_list']"
   ]
  },
  {
   "cell_type": "code",
   "execution_count": 4,
   "metadata": {},
   "outputs": [],
   "source": [
    "X_train = multiplex_preprocess(X_train)\n",
    "X_val = multiplex_preprocess(X_val)"
   ]
  },
  {
   "cell_type": "code",
   "execution_count": 5,
   "metadata": {},
   "outputs": [],
   "source": [
    "tissue_subset = False\n",
    "tissues = ['breast', 'gi', 'immune', 'pancreas', 'all']\n",
    "platforms = ['codex', 'cycif', 'mibi', 'vectra']\n",
    "\n",
    "if tissue_subset:\n",
    "    train_subset_list = train_tissue\n",
    "    val_subset_list = val_tissue\n",
    "    subsets = tissues\n",
    "else:\n",
    "    train_subset_list = train_platform\n",
    "    val_subset_list = val_platform\n",
    "    subsets = platforms"
   ]
  },
  {
   "cell_type": "code",
   "execution_count": null,
   "metadata": {},
   "outputs": [
    {
     "name": "stdout",
     "output_type": "stream",
     "text": [
      "Training model for codex\n"
     ]
    },
    {
     "name": "stderr",
     "output_type": "stream",
     "text": [
      "WARNING: Logging before flag parsing goes to stderr.\n",
      "W1024 01:18:58.352425 139667778570048 deprecation.py:506] From /usr/local/lib/python3.6/dist-packages/tensorflow/python/ops/init_ops.py:1251: calling VarianceScaling.__init__ (from tensorflow.python.ops.init_ops) with dtype is deprecated and will be removed in a future version.\n",
      "Instructions for updating:\n",
      "Call initializer instance with the dtype argument instead of passing it to the constructor\n"
     ]
    },
    {
     "name": "stdout",
     "output_type": "stream",
     "text": [
      "Downloading data from https://github.com/keras-team/keras-applications/releases/download/resnet/resnet50_weights_tf_dim_ordering_tf_kernels_notop.h5\n",
      "94773248/94765736 [==============================] - 3s 0us/step\n",
      "There are 858 images in the train subset and 1041 in the val subset\n"
     ]
    },
    {
     "name": "stderr",
     "output_type": "stream",
     "text": [
      "W1024 01:19:32.061852 139667778570048 semantic.py:111] X data dtype is float32: this will increase memory use during preprocessing. Consider using a smaller dtype\n"
     ]
    },
    {
     "name": "stdout",
     "output_type": "stream",
     "text": [
      "Model name is 20201018_multiplex_seed_3_subset_100_codex\n"
     ]
    }
   ],
   "source": [
    "from deepcell.model_zoo.panopticnet import PanopticNet\n",
    "from tensorflow.keras.optimizers import SGD, Adam\n",
    "from deepcell.utils.train_utils import rate_scheduler\n",
    "from deepcell import image_generators\n",
    "from deepcell.utils import train_utils\n",
    "from tensorflow.python.keras.losses import MSE\n",
    "from deepcell import losses\n",
    "from deepcell.utils.train_utils import get_callbacks\n",
    "from deepcell.utils.train_utils import count_gpus\n",
    "\n",
    "\n",
    "for current_subset in subsets:\n",
    "    print(\"Training model for {}\".format(current_subset))\n",
    "    \n",
    "    # initialize new model\n",
    "    new_model = PanopticNet(\n",
    "        backbone='resnet50',\n",
    "        input_shape=(256, 256, 2),\n",
    "        norm_method=None,\n",
    "        num_semantic_heads=2,\n",
    "        num_semantic_classes=[1, 3], # inner distance, pixelwise\n",
    "        location=True,  # should always be true\n",
    "        include_top=True)\n",
    "    \n",
    "    if current_subset == 'all':\n",
    "        X_train_subset, y_train_subset = X_train, y_train\n",
    "        X_val_subset, y_val_subset = X_val, y_val\n",
    "        print(\"There are {} images in the train subset and {} in the val subset\".format(X_train.shape[0], \n",
    "                                                                                        X_val.shape[0]))\n",
    "    else:\n",
    "        subset_idx_train = np.isin(train_subset_list, current_subset)\n",
    "        subset_idx_val = np.isin(val_subset_list, current_subset)\n",
    "        print(\"There are {} images in the train subset and {} in the val subset\".format(np.sum(subset_idx_train), \n",
    "                                                                                        np.sum(subset_idx_val)))\n",
    "\n",
    "        # subset training dict for current subset\n",
    "        X_train_subset, y_train_subset = X_train[subset_idx_train], y_train[subset_idx_train]\n",
    "        X_val_subset, y_val_subset = X_val[subset_idx_val], y_val[subset_idx_val]\n",
    "    \n",
    "    # set up training parameters\n",
    "    model_name = npz_name + '_subset_100_' + current_subset\n",
    "    n_epoch = 100  # Number of training epochs\n",
    "\n",
    "    optimizer = Adam(lr=1e-4, clipnorm=0.001)\n",
    "    lr_sched = rate_scheduler(lr=1e-4, decay=0.99)\n",
    "\n",
    "    batch_size = 8\n",
    "\n",
    "    min_objects = 0  # throw out images with fewer than this many objects\n",
    "    seed=0\n",
    "    print(\"Model name is {}\".format(model_name))\n",
    "    \n",
    "    # create augmented dataset\n",
    "    datagen = image_generators.CroppingDataGenerator(\n",
    "        rotation_range=180,\n",
    "        shear_range=0,\n",
    "        zoom_range=(0.75, 1.25),\n",
    "        horizontal_flip=True,\n",
    "        vertical_flip=True,\n",
    "        crop_size=(256, 256),\n",
    "        float_dtype='float16',\n",
    "        int_dtype='int16')\n",
    "\n",
    "    datagen_val = image_generators.SemanticDataGenerator(\n",
    "        rotation_range=0,\n",
    "        shear_range=0,\n",
    "        zoom_range=0,\n",
    "        horizontal_flip=0,\n",
    "        vertical_flip=0,\n",
    "        float_dtype='float16',\n",
    "        int_dtype='int16')\n",
    "\n",
    "    train_data = datagen.flow(\n",
    "        {'X': X_train_subset, 'y': y_train_subset},\n",
    "        seed=seed,\n",
    "        transforms=['inner-distance', 'pixelwise'],\n",
    "        transforms_kwargs={'pixelwise':{'dilation_radius': 1}, \n",
    "                          'inner-distance': {'erosion_width': 1, 'alpha': 'auto'}},\n",
    "        min_objects=min_objects,\n",
    "        batch_size=batch_size)\n",
    "\n",
    "    val_data = datagen_val.flow(\n",
    "        {'X': X_val_subset, 'y': y_val_subset},\n",
    "        seed=seed,\n",
    "        transforms=['inner-distance', 'pixelwise'],\n",
    "        transforms_kwargs={'pixelwise':{'dilation_radius': 1},\n",
    "                          'inner-distance': {'erosion_width': 1, 'alpha': 'auto'}},\n",
    "        min_objects=min_objects,\n",
    "        batch_size=batch_size)\n",
    "    \n",
    "    print('generators created')\n",
    "    \n",
    "    # set up losses\n",
    "    def semantic_loss(n_classes):\n",
    "        def _semantic_loss(y_pred, y_true):\n",
    "            if n_classes > 1:\n",
    "                return 0.01 * losses.weighted_categorical_crossentropy(\n",
    "                    y_pred, y_true, n_classes=n_classes)\n",
    "            return MSE(y_pred, y_true)\n",
    "        return _semantic_loss\n",
    "\n",
    "\n",
    "    loss = {}\n",
    "\n",
    "    # Give losses for all of the semantic heads\n",
    "    for layer in new_model.layers:\n",
    "        if layer.name.startswith('semantic_'):\n",
    "            n_classes = layer.output_shape[-1]\n",
    "            loss[layer.name] = semantic_loss(n_classes)\n",
    "            \n",
    "    # compile model\n",
    "    new_model.compile(loss=loss, optimizer=optimizer)\n",
    "    \n",
    "    # train model\n",
    "    model_path = os.path.join(MODEL_DIR, '{}.h5'.format(model_name))\n",
    "    loss_path = os.path.join(MODEL_DIR, '{}.npz'.format(model_name))\n",
    "\n",
    "    num_gpus = count_gpus()\n",
    "\n",
    "    print('Training on', num_gpus, 'GPUs.')\n",
    "\n",
    "    train_callbacks = get_callbacks(\n",
    "        model_path,\n",
    "        lr_sched=lr_sched,\n",
    "        tensorboard_log_dir=LOG_DIR,\n",
    "        save_weights_only=num_gpus >= 2,\n",
    "        monitor='val_loss',\n",
    "        verbose=1)\n",
    "\n",
    "    loss_history = new_model.fit_generator(\n",
    "        train_data,\n",
    "        steps_per_epoch=333,\n",
    "        epochs=n_epoch,\n",
    "        validation_data=val_data,\n",
    "        validation_steps=val_data.y.shape[0] // batch_size,\n",
    "        callbacks=train_callbacks)\n"
   ]
  }
 ],
 "metadata": {
  "kernelspec": {
   "display_name": "Python 3",
   "language": "python",
   "name": "python3"
  },
  "language_info": {
   "codemirror_mode": {
    "name": "ipython",
    "version": 3
   },
   "file_extension": ".py",
   "mimetype": "text/x-python",
   "name": "python",
   "nbconvert_exporter": "python",
   "pygments_lexer": "ipython3",
   "version": "3.6.8"
  }
 },
 "nbformat": 4,
 "nbformat_minor": 2
}
