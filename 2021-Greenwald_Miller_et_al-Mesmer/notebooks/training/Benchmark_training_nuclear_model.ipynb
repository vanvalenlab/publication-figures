{
 "cells": [
  {
   "cell_type": "code",
   "execution_count": 1,
   "metadata": {},
   "outputs": [],
   "source": [
    "# This notebook trains the nuclear-segmentation version of Mesmer\n",
    "import os\n",
    "import errno\n",
    "import numpy as np \n",
    "import deepcell\n",
    "from deepcell_toolbox.multiplex_utils import multiplex_preprocess"
   ]
  },
  {
   "cell_type": "code",
   "execution_count": 2,
   "metadata": {},
   "outputs": [],
   "source": [
    "# create folder for this set of experiments\n",
    "experiment_folder = \"nuclear_model\"\n",
    "MODEL_DIR = os.path.join(\"/data/analyses\", experiment_folder)\n",
    "NPZ_DIR = \"/data/npz_data/20201018_freeze/\"\n",
    "LOG_DIR = '/data/logs'\n",
    "\n",
    "if not os.path.isdir(MODEL_DIR):\n",
    "    os.makedirs(MODEL_DIR)"
   ]
  },
  {
   "cell_type": "code",
   "execution_count": null,
   "metadata": {},
   "outputs": [
    {
     "name": "stdout",
     "output_type": "stream",
     "text": [
      "Training model for 1\n"
     ]
    },
    {
     "name": "stderr",
     "output_type": "stream",
     "text": [
      "WARNING: Logging before flag parsing goes to stderr.\n",
      "W1106 05:17:27.223625 140580942575424 deprecation.py:506] From /usr/local/lib/python3.6/dist-packages/tensorflow/python/ops/init_ops.py:1251: calling VarianceScaling.__init__ (from tensorflow.python.ops.init_ops) with dtype is deprecated and will be removed in a future version.\n",
      "Instructions for updating:\n",
      "Call initializer instance with the dtype argument instead of passing it to the constructor\n"
     ]
    },
    {
     "name": "stdout",
     "output_type": "stream",
     "text": [
      "X_train shape is (2664, 512, 512, 2), y_train shape is (2664, 512, 512, 1)\n"
     ]
    },
    {
     "name": "stderr",
     "output_type": "stream",
     "text": [
      "W1106 05:19:07.941479 140580942575424 semantic.py:111] X data dtype is float32: this will increase memory use during preprocessing. Consider using a smaller dtype\n",
      "W1106 05:19:07.943075 140580942575424 semantic.py:115] y data dtype is int32: this will increase memory use during preprocessing. Consider using a smaller dtype.\n"
     ]
    },
    {
     "name": "stdout",
     "output_type": "stream",
     "text": [
      "X_val shape is (3224, 256, 256, 2), y_val shape is (3224, 256, 256, 1)\n",
      "Model name is 20201018_multiplex_seed_1_nuclear_\n"
     ]
    },
    {
     "name": "stderr",
     "output_type": "stream",
     "text": [
      "W1106 05:20:31.702312 140580942575424 semantic.py:111] X data dtype is float32: this will increase memory use during preprocessing. Consider using a smaller dtype\n",
      "W1106 05:20:31.703572 140580942575424 semantic.py:115] y data dtype is int32: this will increase memory use during preprocessing. Consider using a smaller dtype.\n"
     ]
    },
    {
     "name": "stdout",
     "output_type": "stream",
     "text": [
      "generators created\n",
      "Training on 1 GPUs.\n",
      "Epoch 1/100\n"
     ]
    },
    {
     "name": "stderr",
     "output_type": "stream",
     "text": [
      "W1106 05:20:58.029047 140580942575424 deprecation.py:323] From /usr/local/lib/python3.6/dist-packages/tensorflow/python/ops/math_grad.py:1250: add_dispatch_support.<locals>.wrapper (from tensorflow.python.ops.array_ops) is deprecated and will be removed in a future version.\n",
      "Instructions for updating:\n",
      "Use tf.where in 2.0, which has the same broadcast rule as np.where\n"
     ]
    },
    {
     "name": "stdout",
     "output_type": "stream",
     "text": [
      "332/333 [============================>.] - ETA: 1s - loss: 0.0214 - semantic_0_loss: 0.0153 - semantic_1_loss: 0.0060\n",
      "Epoch 00001: val_loss improved from inf to 0.08962, saving model to /data/analyses/nuclear_model/20201018_multiplex_seed_1_nuclear_.h5\n",
      "333/333 [==============================] - 570s 2s/step - loss: 0.0213 - semantic_0_loss: 0.0153 - semantic_1_loss: 0.0060 - val_loss: 0.0896 - val_semantic_0_loss: 0.0354 - val_semantic_1_loss: 0.0542\n",
      "Epoch 2/100\n",
      "332/333 [============================>.] - ETA: 1s - loss: 0.0132 - semantic_0_loss: 0.0089 - semantic_1_loss: 0.0042\n",
      "Epoch 00002: val_loss improved from 0.08962 to 0.05563, saving model to /data/analyses/nuclear_model/20201018_multiplex_seed_1_nuclear_.h5\n",
      "333/333 [==============================] - 494s 1s/step - loss: 0.0132 - semantic_0_loss: 0.0089 - semantic_1_loss: 0.0042 - val_loss: 0.0556 - val_semantic_0_loss: 0.0326 - val_semantic_1_loss: 0.0230\n",
      "Epoch 3/100\n",
      "332/333 [============================>.] - ETA: 1s - loss: 0.0116 - semantic_0_loss: 0.0077 - semantic_1_loss: 0.0038\n",
      "Epoch 00003: val_loss improved from 0.05563 to 0.01834, saving model to /data/analyses/nuclear_model/20201018_multiplex_seed_1_nuclear_.h5\n",
      "333/333 [==============================] - 485s 1s/step - loss: 0.0116 - semantic_0_loss: 0.0077 - semantic_1_loss: 0.0038 - val_loss: 0.0183 - val_semantic_0_loss: 0.0103 - val_semantic_1_loss: 0.0080\n",
      "Epoch 4/100\n",
      "197/333 [================>.............] - ETA: 2:31 - loss: 0.0110 - semantic_0_loss: 0.0073 - semantic_1_loss: 0.0036"
     ]
    }
   ],
   "source": [
    "from deepcell.model_zoo.panopticnet import PanopticNet\n",
    "from tensorflow.keras.optimizers import SGD, Adam\n",
    "from deepcell.utils.train_utils import rate_scheduler\n",
    "from deepcell import image_generators\n",
    "from deepcell.utils import train_utils\n",
    "from tensorflow.python.keras.losses import MSE\n",
    "from deepcell import losses\n",
    "from deepcell.utils.train_utils import get_callbacks\n",
    "from deepcell.utils.train_utils import count_gpus\n",
    "\n",
    "for seed in [1, 2, 3]:\n",
    "    print(\"Training model for {}\".format(seed))\n",
    "    npz_name = \"20201018_multiplex_seed_{}_nuclear_\".format(seed)\n",
    "\n",
    "    train_dict = np.load(NPZ_DIR + npz_name + \"train_512x512.npz\", allow_pickle=True)\n",
    "    val_dict = np.load(NPZ_DIR + npz_name + \"val_256x256.npz\", allow_pickle=True)\n",
    "    \n",
    "    # initialize new model\n",
    "    new_model = PanopticNet(\n",
    "        backbone='resnet50',\n",
    "        input_shape=(256, 256, 2),\n",
    "        norm_method=None,\n",
    "        num_semantic_heads=2,\n",
    "        num_semantic_classes=[1, 3], # inner distance, pixelwise\n",
    "        location=True,  # should always be true\n",
    "        include_top=True,\n",
    "        use_imagenet=True)\n",
    "    \n",
    "    \n",
    "    X_train = train_dict['X']\n",
    "    y_train = train_dict['y'][..., 1:]\n",
    "    print(\"X_train shape is {}, y_train shape is {}\".format(X_train.shape, y_train.shape))\n",
    "    \n",
    "    \n",
    "    X_val = val_dict['X']\n",
    "    y_val = val_dict['y'][..., 1:]\n",
    "    print(\"X_val shape is {}, y_val shape is {}\".format(X_val.shape, y_val.shape))\n",
    "        \n",
    "    # set up training parameters\n",
    "    model_name = npz_name\n",
    "    n_epoch = 100  # Number of training epochs\n",
    "\n",
    "    optimizer = Adam(lr=1e-4, clipnorm=0.001)\n",
    "    lr_sched = rate_scheduler(lr=1e-4, decay=0.99)\n",
    "\n",
    "    batch_size = 8\n",
    "\n",
    "    min_objects = 0  # throw out images with fewer than this many objects\n",
    "    seed=0\n",
    "    print(\"Model name is {}\".format(model_name))\n",
    "    \n",
    "    # create augmented dataset\n",
    "    datagen = image_generators.CroppingDataGenerator(\n",
    "        rotation_range=180,\n",
    "        shear_range=0,\n",
    "        zoom_range=(0.7, 1/0.7),\n",
    "        horizontal_flip=True,\n",
    "        vertical_flip=True,\n",
    "        crop_size=(256, 256),\n",
    "        float_dtype='float16',\n",
    "        int_dtype='int16')\n",
    "\n",
    "    datagen_val = image_generators.SemanticDataGenerator(\n",
    "        rotation_range=0,\n",
    "        shear_range=0,\n",
    "        zoom_range=0,\n",
    "        horizontal_flip=0,\n",
    "        vertical_flip=0,\n",
    "        float_dtype='float16',\n",
    "        int_dtype='int16')\n",
    "\n",
    "    train_data = datagen.flow(\n",
    "        {'X': X_train, 'y': y_train},\n",
    "        seed=seed,\n",
    "        transforms=['inner-distance', 'pixelwise'],\n",
    "        transforms_kwargs={'pixelwise':{'dilation_radius': 1}, \n",
    "                          'inner-distance': {'erosion_width': 1, 'alpha': 'auto'}},\n",
    "        min_objects=min_objects,\n",
    "        batch_size=batch_size)\n",
    "\n",
    "    val_data = datagen_val.flow(\n",
    "        {'X': X_val, 'y': y_val},\n",
    "        seed=seed,\n",
    "        transforms=['inner-distance', 'pixelwise'],\n",
    "        transforms_kwargs={'pixelwise':{'dilation_radius': 1},\n",
    "                          'inner-distance': {'erosion_width': 1, 'alpha': 'auto'}},\n",
    "        min_objects=min_objects,\n",
    "        batch_size=batch_size)\n",
    "    \n",
    "    print('generators created')\n",
    "    \n",
    "    # set up losses\n",
    "    def semantic_loss(n_classes):\n",
    "        def _semantic_loss(y_pred, y_true):\n",
    "            if n_classes > 1:\n",
    "                return 0.01 * losses.weighted_categorical_crossentropy(\n",
    "                    y_pred, y_true, n_classes=n_classes)\n",
    "            return MSE(y_pred, y_true)\n",
    "        return _semantic_loss\n",
    "\n",
    "\n",
    "    loss = {}\n",
    "\n",
    "    # Give losses for all of the semantic heads\n",
    "    for layer in new_model.layers:\n",
    "        if layer.name.startswith('semantic_'):\n",
    "            n_classes = layer.output_shape[-1]\n",
    "            loss[layer.name] = semantic_loss(n_classes)\n",
    "            \n",
    "    # compile model\n",
    "    new_model.compile(loss=loss, optimizer=optimizer)\n",
    "    \n",
    "    # train model\n",
    "    model_path = os.path.join(MODEL_DIR, '{}.h5'.format(model_name))\n",
    "    loss_path = os.path.join(MODEL_DIR, '{}.npz'.format(model_name))\n",
    "\n",
    "    num_gpus = count_gpus()\n",
    "\n",
    "    print('Training on', num_gpus, 'GPUs.')\n",
    "\n",
    "    train_callbacks = get_callbacks(\n",
    "        model_path,\n",
    "        lr_sched=lr_sched,\n",
    "        #tensorboard_log_dir=LOG_DIR,\n",
    "        save_weights_only=num_gpus >= 2,\n",
    "        monitor='val_loss',\n",
    "        verbose=1)\n",
    "\n",
    "    loss_history = new_model.fit_generator(\n",
    "        train_data,\n",
    "        steps_per_epoch=333,\n",
    "        epochs=n_epoch,\n",
    "        validation_data=val_data,\n",
    "        validation_steps=val_data.y.shape[0] // batch_size,\n",
    "        callbacks=train_callbacks)\n"
   ]
  }
 ],
 "metadata": {
  "kernelspec": {
   "display_name": "Python 3",
   "language": "python",
   "name": "python3"
  },
  "language_info": {
   "codemirror_mode": {
    "name": "ipython",
    "version": 3
   },
   "file_extension": ".py",
   "mimetype": "text/x-python",
   "name": "python",
   "nbconvert_exporter": "python",
   "pygments_lexer": "ipython3",
   "version": "3.6.8"
  }
 },
 "nbformat": 4,
 "nbformat_minor": 2
}
